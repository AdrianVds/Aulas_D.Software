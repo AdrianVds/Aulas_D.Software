{
  "nbformat": 4,
  "nbformat_minor": 0,
  "metadata": {
    "colab": {
      "name": "Untitled12.ipynb",
      "provenance": [],
      "authorship_tag": "ABX9TyMSHb0J5fxG5lgidvw3A28h",
      "include_colab_link": true
    },
    "kernelspec": {
      "name": "python3",
      "display_name": "Python 3"
    },
    "language_info": {
      "name": "python"
    }
  },
  "cells": [
    {
      "cell_type": "markdown",
      "metadata": {
        "id": "view-in-github",
        "colab_type": "text"
      },
      "source": [
        "<a href=\"https://colab.research.google.com/github/AdrianVds/Aulas_D.Software/blob/main/Untitled12.ipynb\" target=\"_parent\"><img src=\"https://colab.research.google.com/assets/colab-badge.svg\" alt=\"Open In Colab\"/></a>"
      ]
    },
    {
      "cell_type": "code",
      "metadata": {
        "colab": {
          "base_uri": "https://localhost:8080/"
        },
        "id": "cYpux2CY0hXX",
        "outputId": "7b54c938-a0b7-4f6f-c707-89f573b03fec"
      },
      "source": [
        "# Idade CNH (Carteira Nacional de Habilitação)\n",
        "ano_nascimento = int(input(\"Qual ano voce nasceu? \"))\n",
        "idade = 2021 - ano_nascimento\n",
        "print(f\"Ok, Voce tem {idade} anos de idade \")\n",
        "print(\"-----------------------------------------\")\n",
        "if idade <= 17:\n",
        "    print(\"voce ainda nao pode fazer sua CNH !\")\n",
        "elif idade == 18:\n",
        "    print(\"voce ja é maior de idade, pode tirar sua carteira !! \")\n",
        "    print(\"-----------------------------------------\")\n",
        "    cnh = input(\"Deseja fazer sua cnh s/n ?\")\n",
        "    if cnh == \"s\":\n",
        "        print()\n",
        "        print(\"legal,Vamos começar\")\n",
        "    else:\n",
        "        print()\n",
        "        print(\"OK,volte quando decidir\")\n",
        "elif idade > 18:\n",
        "    print(\"voce ja poderia ter feito sua cnh! \")\n",
        "    print(\"-----------------------------------------\")\n",
        "    cnh = input(\"Deseja fazer sua cnh s/n ?\")\n",
        "    if cnh == \"s\":\n",
        "        print()\n",
        "        print(\"legal,Vamos começar\")\n",
        "    else:\n",
        "        print()\n",
        "        print(\"OK,volte quando decidir\")\n",
        "else:\n",
        "    print(\"Incorreto digite novamente !!\")\n",
        "     \n",
        "        "
      ],
      "execution_count": 18,
      "outputs": [
        {
          "output_type": "stream",
          "text": [
            "Qual ano voce nasceu? 1992\n",
            "Ok, Voce tem 29 anos de idade \n",
            "-----------------------------------------\n",
            "voce ja poderia ter feito sua cnh! \n",
            "-----------------------------------------\n",
            "Deseja fazer sua cnh s/n ?s\n",
            "\n",
            "legal,Vamos começar\n"
          ],
          "name": "stdout"
        }
      ]
    }
  ]
}