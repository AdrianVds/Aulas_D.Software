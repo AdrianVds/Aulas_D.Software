{
  "nbformat": 4,
  "nbformat_minor": 0,
  "metadata": {
    "colab": {
      "name": "Untitled7.ipynb",
      "provenance": [],
      "authorship_tag": "ABX9TyPo/fFoew6vbtoHwinMuLZm",
      "include_colab_link": true
    },
    "kernelspec": {
      "name": "python3",
      "display_name": "Python 3"
    },
    "language_info": {
      "name": "python"
    }
  },
  "cells": [
    {
      "cell_type": "markdown",
      "metadata": {
        "id": "view-in-github",
        "colab_type": "text"
      },
      "source": [
        "<a href=\"https://colab.research.google.com/github/AdrianVds/Aulas_D.Software/blob/main/Untitled7.ipynb\" target=\"_parent\"><img src=\"https://colab.research.google.com/assets/colab-badge.svg\" alt=\"Open In Colab\"/></a>"
      ]
    },
    {
      "cell_type": "code",
      "metadata": {
        "colab": {
          "base_uri": "https://localhost:8080/"
        },
        "id": "vb8LoOzNsK5B",
        "outputId": "95c3711e-1f81-4c6b-dfab-84919e7ddba4"
      },
      "source": [
        "nome = input(\"qual o seu nome: \").upper()\n",
        "print(\"Ola\",nome,\"Vamos calcular!\")\n",
        "print()\n",
        "num1 = int(input(\"Digite um numero: \"))\n",
        "num2 = int(input(\"Digite outro numero: \"))\n",
        "print()\n",
        "soma = num1 + num2\n",
        "multiplicaçao = num1 * num2\n",
        "divisao = num1 / num2\n",
        "print(f\"A soma de {num1} e {num2} é {soma}!\")\n",
        "print(f\"A multiplicaçao de {num1} e {num2} é {multiplicaçao }!\")\n",
        "print(f\"A divisao de {num1} e {num2} é {divisao}!\")\n",
        "print()\n",
        "print(\"Obrigado por usar o programa !!\")"
      ],
      "execution_count": 1,
      "outputs": [
        {
          "output_type": "stream",
          "text": [
            "qual o seu nome: Adrian\n",
            "Ola ADRIAN Vamos calcular!\n",
            "\n",
            "Digite um numero: 10\n",
            "Digite outro numero: 2\n",
            "\n",
            "A soma de 10 e 2 é 12!\n",
            "A multiplicaçao de 10 e 2 é 20!\n",
            "A divisao de 10 e 2 é 5.0!\n",
            "\n",
            "Obrigado por usar o programa !!\n"
          ],
          "name": "stdout"
        }
      ]
    }
  ]
}