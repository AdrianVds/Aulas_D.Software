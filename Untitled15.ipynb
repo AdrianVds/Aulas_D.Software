{
  "nbformat": 4,
  "nbformat_minor": 0,
  "metadata": {
    "colab": {
      "name": "Untitled15.ipynb",
      "provenance": [],
      "authorship_tag": "ABX9TyMhsGpA2bUtVKn3AGqJK02D",
      "include_colab_link": true
    },
    "kernelspec": {
      "name": "python3",
      "display_name": "Python 3"
    },
    "language_info": {
      "name": "python"
    }
  },
  "cells": [
    {
      "cell_type": "markdown",
      "metadata": {
        "id": "view-in-github",
        "colab_type": "text"
      },
      "source": [
        "<a href=\"https://colab.research.google.com/github/AdrianVds/Aulas_D.Software/blob/main/Untitled15.ipynb\" target=\"_parent\"><img src=\"https://colab.research.google.com/assets/colab-badge.svg\" alt=\"Open In Colab\"/></a>"
      ]
    },
    {
      "cell_type": "code",
      "metadata": {
        "colab": {
          "base_uri": "https://localhost:8080/"
        },
        "id": "YMU0LpBhQqIN",
        "outputId": "2fd0313a-24c5-40c7-f1b7-38982c303b54"
      },
      "source": [
        "#Supermercado divida no valor de 1000 reais com juros/desconto de 25%\n",
        "print(\"       Supermercado Bom Preço !!          \")\n",
        "print()\n",
        "print(\"Boa tarde sua divida é de 1000 reais ! \")\n",
        "print(\"-----------------------------------------\")\n",
        "print(\"1- promoção á vista com 25% de desconto\")\n",
        "print(\"2- Cartão com juros de 25%\")\n",
        "print(\"-----------------------------------------\")\n",
        "opçao = int(input(\"Como deseja pagar? 1 ou 2: \"))\n",
        "print(\"-----------------------------------------\")\n",
        "if opçao == 1:\n",
        "   print(\"Voce selecionou á Vistá\")\n",
        "   a = 1000*25\n",
        "   b = a/100\n",
        "   print(f\"obteve o desconto de {b} reais\")\n",
        "   total = 1000 - b\n",
        "   print(f\"Divida ficou em {total} reais\")\n",
        "   print(\"-----------------------------------------\")\n",
        "   print(\"Obrigado pela preferencia volte sempre\")\n",
        "if opçao == 2:\n",
        "   print(\"Voce selecionou Cartão\")\n",
        "   a = 1000*25\n",
        "   b = a/100\n",
        "   print(f\"Juros de {b} reais\")\n",
        "   total = 1000 + b\n",
        "   print(f\"Divida ficou em {total} reais\")\n",
        "   print(\"-----------------------------------------\")\n",
        "   print(\"Obrigado pela preferencia volte sempre\")\n",
        "\n",
        "\n",
        "   \n",
        "   \n",
        "\n",
        "\n",
        "\n"
      ],
      "execution_count": 15,
      "outputs": [
        {
          "output_type": "stream",
          "text": [
            "       Supermercado Bom Preço !!          \n",
            "\n",
            "Boa tarde sua divida é de 1000 reais ! \n",
            "-----------------------------------------\n",
            "1- promoção á vista com 25% de desconto\n",
            "2- Cartão com juros de 25%\n",
            "-----------------------------------------\n",
            "Como deseja pagar? 1 ou 2: 1\n",
            "-----------------------------------------\n",
            "Voce selecionou á Vistá\n",
            "obteve o desconto de 250.0 reais\n",
            "Divida ficou em 750.0 reais\n",
            "-----------------------------------------\n",
            "Obrigado pela preferencia volte sempre\n"
          ],
          "name": "stdout"
        }
      ]
    }
  ]
}