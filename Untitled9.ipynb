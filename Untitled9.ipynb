{
  "nbformat": 4,
  "nbformat_minor": 0,
  "metadata": {
    "colab": {
      "name": "Untitled9.ipynb",
      "provenance": [],
      "authorship_tag": "ABX9TyNJphtDDdyDM2J5aPYohuxA",
      "include_colab_link": true
    },
    "kernelspec": {
      "name": "python3",
      "display_name": "Python 3"
    },
    "language_info": {
      "name": "python"
    }
  },
  "cells": [
    {
      "cell_type": "markdown",
      "metadata": {
        "id": "view-in-github",
        "colab_type": "text"
      },
      "source": [
        "<a href=\"https://colab.research.google.com/github/AdrianVds/Aulas_D.Software/blob/main/Untitled9.ipynb\" target=\"_parent\"><img src=\"https://colab.research.google.com/assets/colab-badge.svg\" alt=\"Open In Colab\"/></a>"
      ]
    },
    {
      "cell_type": "code",
      "metadata": {
        "colab": {
          "base_uri": "https://localhost:8080/"
        },
        "id": "l4CdzDlTJ7Uu",
        "outputId": "56438b05-1c4e-4a2e-ddb9-bb4160673089"
      },
      "source": [
        "#numero par ou impar\n",
        "numero = int(input(\"Digite um numero: \"))\n",
        "resultado = numero %2\n",
        "\n",
        "if resultado ==0:\n",
        "  print(f\"{numero} é um numero Par!\")\n",
        "else:\n",
        "  print(f\"{numero} é um numero Impar!\")\n",
        "\n",
        "\n"
      ],
      "execution_count": 6,
      "outputs": [
        {
          "output_type": "stream",
          "text": [
            "Digite um numero: 3\n",
            "3 é um numero Impar!\n"
          ],
          "name": "stdout"
        }
      ]
    }
  ]
}