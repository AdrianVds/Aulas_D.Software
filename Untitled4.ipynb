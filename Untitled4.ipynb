{
  "nbformat": 4,
  "nbformat_minor": 0,
  "metadata": {
    "colab": {
      "name": "Untitled4.ipynb",
      "provenance": [],
      "collapsed_sections": [],
      "authorship_tag": "ABX9TyMRTPqIgXMoIHFzGFKZFkzS",
      "include_colab_link": true
    },
    "kernelspec": {
      "name": "python3",
      "display_name": "Python 3"
    },
    "language_info": {
      "name": "python"
    }
  },
  "cells": [
    {
      "cell_type": "markdown",
      "metadata": {
        "id": "view-in-github",
        "colab_type": "text"
      },
      "source": [
        "<a href=\"https://colab.research.google.com/github/AdrianVds/Aulas_D.Software/blob/main/Untitled4.ipynb\" target=\"_parent\"><img src=\"https://colab.research.google.com/assets/colab-badge.svg\" alt=\"Open In Colab\"/></a>"
      ]
    },
    {
      "cell_type": "code",
      "metadata": {
        "colab": {
          "base_uri": "https://localhost:8080/"
        },
        "id": "7lnjvodJsaiy",
        "outputId": "e3ef0faf-0403-4f39-e9e0-8145e43f8675"
      },
      "source": [
        "## dados\n",
        "nome = input(\"qual o seu nome? \")\n",
        "dia = input(\"qual dia voce nasceu ? \")\n",
        "mes = input(\"que mes voce nasceu? \")\n",
        "ano = input(\"qual ano voce nasceu? \")\n",
        "dados = print(f\"{nome} voce nasceu em {dia} de {mes} do ano de {ano}\")"
      ],
      "execution_count": null,
      "outputs": [
        {
          "output_type": "stream",
          "text": [
            "qual o seu nome? Adrian\n",
            "qual dia voce nasceu ? 03\n",
            "que mes voce nasceu? março\n",
            "qual ano voce nasceu? 2001\n",
            "Adrian voce nasceu em 03 de março do ano de 2001\n"
          ],
          "name": "stdout"
        }
      ]
    },
    {
      "cell_type": "code",
      "metadata": {
        "colab": {
          "base_uri": "https://localhost:8080/"
        },
        "id": "2nPFtR50u8vB",
        "outputId": "791482b7-cbcb-4077-ece2-ea7a98bc0a76"
      },
      "source": [
        "#idade\n",
        "num1 = float(input(\"digite um numero: \"))\n",
        "print()\n",
        "if num1 < 18:\n",
        "   print(\"voce ainda é menor de idade\")\n",
        "else:\n",
        "   print(\"voce ja é de maior\")"
      ],
      "execution_count": null,
      "outputs": [
        {
          "output_type": "stream",
          "text": [
            "digite um numero: 18\n",
            "\n",
            "voce ja é de maior\n"
          ],
          "name": "stdout"
        }
      ]
    },
    {
      "cell_type": "code",
      "metadata": {
        "colab": {
          "base_uri": "https://localhost:8080/"
        },
        "id": "IOSp6rX9-9Xn",
        "outputId": "9d8509e0-23db-4ec9-f219-4aab10725a2d"
      },
      "source": [
        "## media das provas\n",
        "not1 = float(input(\"qual a sua nota da primeira prova? \"))\n",
        "not2 = float(input(\"qual a nota da sua segunda prova? \"))\n",
        "\n",
        "media = (not1 + not2)//2\n",
        "print(media)\n",
        "print()\n",
        "if media < 6:\n",
        "   print(\"reprovado\")\n",
        "else:\n",
        "   print(\"aprovado\")"
      ],
      "execution_count": null,
      "outputs": [
        {
          "output_type": "stream",
          "text": [
            "qual a sua nota da primeira prova? 6\n",
            "qual a nota da sua segunda prova? 4\n",
            "5.0\n",
            "\n",
            "reprovado\n"
          ],
          "name": "stdout"
        }
      ]
    }
  ]
}