{
  "nbformat": 4,
  "nbformat_minor": 0,
  "metadata": {
    "colab": {
      "name": "Untitled8.ipynb",
      "provenance": [],
      "authorship_tag": "ABX9TyNF9JTmh5MmzNBdiJ+0neHN",
      "include_colab_link": true
    },
    "kernelspec": {
      "name": "python3",
      "display_name": "Python 3"
    },
    "language_info": {
      "name": "python"
    }
  },
  "cells": [
    {
      "cell_type": "markdown",
      "metadata": {
        "id": "view-in-github",
        "colab_type": "text"
      },
      "source": [
        "<a href=\"https://colab.research.google.com/github/AdrianVds/Aulas_D.Software/blob/main/Untitled8.ipynb\" target=\"_parent\"><img src=\"https://colab.research.google.com/assets/colab-badge.svg\" alt=\"Open In Colab\"/></a>"
      ]
    },
    {
      "cell_type": "code",
      "metadata": {
        "id": "ZhaYke5fuaOw",
        "colab": {
          "base_uri": "https://localhost:8080/"
        },
        "outputId": "15d1344a-be3b-4a30-e396-902008bb1a43"
      },
      "source": [
        "#Calculadora de quantidade// 1 litro por 2 metros quadrados\n",
        "altura = float(input(\"quantos metros de altura tem a parede? \"))\n",
        "comprimento = float(input(\"quantos metros de comprimento tem a parede? \"))\n",
        "area = altura*comprimento\n",
        "print(\"--------------------------------------------------.\")\n",
        "print(f\"area total de {area} metros quadrados !!\")\n",
        "print(\"--------------------------------------------------.\")\n",
        "total_tinta = area/2\n",
        "print(f\"sera nescessario {total_tinta} litros de tinta para pintar {area} metros quadrados !!\")\n",
        "\n"
      ],
      "execution_count": 5,
      "outputs": [
        {
          "output_type": "stream",
          "text": [
            "quantos metros de altura tem a parede? 2\n",
            "quantos metros de comprimento tem a parede? 5\n",
            "--------------------------------------------------.\n",
            "area total de 10 metros quadrados !!\n",
            "--------------------------------------------------.\n",
            "sera nescessario 5.0 litros de tinta para pintar 10 metros quadrados !!\n"
          ],
          "name": "stdout"
        }
      ]
    }
  ]
}