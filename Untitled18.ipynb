{
  "nbformat": 4,
  "nbformat_minor": 0,
  "metadata": {
    "colab": {
      "name": "Untitled18.ipynb",
      "provenance": [],
      "collapsed_sections": [],
      "authorship_tag": "ABX9TyPOTjgh2LnDi6fWUwo6mu6F",
      "include_colab_link": true
    },
    "kernelspec": {
      "name": "python3",
      "display_name": "Python 3"
    },
    "language_info": {
      "name": "python"
    }
  },
  "cells": [
    {
      "cell_type": "markdown",
      "metadata": {
        "id": "view-in-github",
        "colab_type": "text"
      },
      "source": [
        "<a href=\"https://colab.research.google.com/github/AdrianVds/Aulas_Py/blob/main/Untitled18.ipynb\" target=\"_parent\"><img src=\"https://colab.research.google.com/assets/colab-badge.svg\" alt=\"Open In Colab\"/></a>"
      ]
    },
    {
      "cell_type": "code",
      "metadata": {
        "colab": {
          "base_uri": "https://localhost:8080/"
        },
        "id": "suZ6SVXhWthn",
        "outputId": "3f168518-443c-456a-fdf3-ca1f6af8ffa1"
      },
      "source": [
        "#olimpiadas skate 2021 classificação\n",
        "print(\"          Olimpiadas 2021              \")\n",
        "print(\"Ultima manobra do Brasil para a classificação:\")\n",
        "print()\n",
        "a = int(input(\"Digite a primeira nota: \"))\n",
        "b = int(input(\"Digite a segunda nota: \"))\n",
        "c = int(input(\"Digite a terceira nota: \"))\n",
        "print(\"----------------------------------\")\n",
        "media = (a + b + c)//3\n",
        "print(f\"O Brasil Obtêm nota {media} !!\")\n",
        "print(\"----------------------------------\")\n",
        "print(\"Acaba a competição e o Pódio fica: \")\n",
        "if media <= 7:\n",
        "  print(\"1- Autralia com medalha de ouro \")\n",
        "  print(\"2- japão com medalha de prata \")\n",
        "  print(\"3- Brasil com medalha de bronze \")\n",
        "elif media == 8:\n",
        "  print(\"1- Autralia com medalha de ouro \")\n",
        "  print(\"2- Brasil com medalha de prata \")\n",
        "  print(\"3- Japão com medalha de bronze \")\n",
        "elif media >= 9:\n",
        "  print(\"1- Brasil com medalha de ouro \")\n",
        "  print(\"2- Australia com medalha de prata \")\n",
        "  print(\"3- Japão com medalha de bronze \")"
      ],
      "execution_count": 1,
      "outputs": [
        {
          "output_type": "stream",
          "text": [
            "          Olimpiadas 2021              \n",
            "Ultima manobra do Brasil para a classificação:\n",
            "\n",
            "Digite a primeira nota: 8\n",
            "Digite a segunda nota: 7\n",
            "Digite a terceira nota: 9\n",
            "----------------------------------\n",
            "O Brasil Obtêm nota 8 !!\n",
            "----------------------------------\n",
            "Acaba a competição e o Pódio fica: \n",
            "1- Autralia com medalha de ouro \n",
            "2- Brasil com medalha de prata \n",
            "3- Japão com medalha de bronze \n"
          ],
          "name": "stdout"
        }
      ]
    }
  ]
}