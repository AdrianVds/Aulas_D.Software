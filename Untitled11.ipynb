{
  "nbformat": 4,
  "nbformat_minor": 0,
  "metadata": {
    "colab": {
      "name": "Untitled11.ipynb",
      "provenance": [],
      "authorship_tag": "ABX9TyPaz5l4QtBYCeQAzVLVyLrC",
      "include_colab_link": true
    },
    "kernelspec": {
      "name": "python3",
      "display_name": "Python 3"
    },
    "language_info": {
      "name": "python"
    }
  },
  "cells": [
    {
      "cell_type": "markdown",
      "metadata": {
        "id": "view-in-github",
        "colab_type": "text"
      },
      "source": [
        "<a href=\"https://colab.research.google.com/github/AdrianVds/Aulas_D.Software/blob/main/Untitled11.ipynb\" target=\"_parent\"><img src=\"https://colab.research.google.com/assets/colab-badge.svg\" alt=\"Open In Colab\"/></a>"
      ]
    },
    {
      "cell_type": "code",
      "metadata": {
        "colab": {
          "base_uri": "https://localhost:8080/"
        },
        "id": "k127JsBUWO1y",
        "outputId": "4ab3682e-7404-4d83-a238-aef6be70b116"
      },
      "source": [
        "## aumento de 10% do aluguel\n",
        "valor_aluguel = int(input(\"Qual valor atual do aluguel? \"))\n",
        "aumento = valor_aluguel/10\n",
        "print(f\"O aumento foi de {aumento} reais\")\n",
        "valor_final = valor_aluguel+aumento\n",
        "print(f\"O novo valor do aluguel será {valor_final}\")"
      ],
      "execution_count": 1,
      "outputs": [
        {
          "output_type": "stream",
          "text": [
            "Qual valor atual do aluguel? 100\n",
            "O aumento foi de 10.0 reais\n",
            "O novo valor do aluguel será 110.0\n"
          ],
          "name": "stdout"
        }
      ]
    }
  ]
}