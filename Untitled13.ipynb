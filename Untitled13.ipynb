{
  "nbformat": 4,
  "nbformat_minor": 0,
  "metadata": {
    "colab": {
      "name": "Untitled13.ipynb",
      "provenance": [],
      "authorship_tag": "ABX9TyOzrY+wZOnaazsqTfAyu2bs",
      "include_colab_link": true
    },
    "kernelspec": {
      "name": "python3",
      "display_name": "Python 3"
    },
    "language_info": {
      "name": "python"
    }
  },
  "cells": [
    {
      "cell_type": "markdown",
      "metadata": {
        "id": "view-in-github",
        "colab_type": "text"
      },
      "source": [
        "<a href=\"https://colab.research.google.com/github/AdrianVds/Aulas_D.Software/blob/main/Untitled13.ipynb\" target=\"_parent\"><img src=\"https://colab.research.google.com/assets/colab-badge.svg\" alt=\"Open In Colab\"/></a>"
      ]
    },
    {
      "cell_type": "code",
      "metadata": {
        "colab": {
          "base_uri": "https://localhost:8080/"
        },
        "id": "UhjUjSLbRHg3",
        "outputId": "81f1b5a4-5950-47aa-9c3b-31961fe769d8"
      },
      "source": [
        "## lista\n",
        "lista = []\n",
        "print(type(lista))\n",
        "list1 = [\"Adrian\"]\n",
        "list2 = [\"vinicius\"]\n",
        "soma = list1 + list2\n",
        "print(soma)\n",
        "\n"
      ],
      "execution_count": null,
      "outputs": [
        {
          "output_type": "stream",
          "text": [
            "<class 'list'>\n",
            "['Adrian', 'vinicius']\n"
          ],
          "name": "stdout"
        }
      ]
    },
    {
      "cell_type": "code",
      "metadata": {
        "colab": {
          "base_uri": "https://localhost:8080/"
        },
        "id": "56lSdM2YY2de",
        "outputId": "19dd9dad-c379-4a6b-d741-295b84196f27"
      },
      "source": [
        "## lista exercicio\n",
        "print(\"Acerte o proximo numero da sequencia !!\")\n",
        "lista1 = [3,6,9,12,]\n",
        "print(lista1)\n",
        "numero = int(input(\"digite o proximo numero da lista: \"))\n",
        "if numero == 15:\n",
        "   lista1.append(15)\n",
        "   print(lista1)\n",
        "   print(\"Correto !\")\n",
        "else:\n",
        "   print(\"incorreto !\")"
      ],
      "execution_count": 28,
      "outputs": [
        {
          "output_type": "stream",
          "text": [
            "Acerte o proximo numero da sequencia !!\n",
            "[3, 6, 9, 12]\n",
            "digite o proximo numero da lista: 13\n",
            "incorreto !\n"
          ],
          "name": "stdout"
        }
      ]
    }
  ]
}