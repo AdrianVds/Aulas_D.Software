{
  "nbformat": 4,
  "nbformat_minor": 0,
  "metadata": {
    "colab": {
      "name": "Untitled14.ipynb",
      "provenance": [],
      "authorship_tag": "ABX9TyOPIqSOGfjLj77kTDUtUakm",
      "include_colab_link": true
    },
    "kernelspec": {
      "name": "python3",
      "display_name": "Python 3"
    },
    "language_info": {
      "name": "python"
    }
  },
  "cells": [
    {
      "cell_type": "markdown",
      "metadata": {
        "id": "view-in-github",
        "colab_type": "text"
      },
      "source": [
        "<a href=\"https://colab.research.google.com/github/AdrianVds/Aulas_D.Software/blob/main/Untitled14.ipynb\" target=\"_parent\"><img src=\"https://colab.research.google.com/assets/colab-badge.svg\" alt=\"Open In Colab\"/></a>"
      ]
    },
    {
      "cell_type": "code",
      "metadata": {
        "colab": {
          "base_uri": "https://localhost:8080/"
        },
        "id": "YXiB1zio67BV",
        "outputId": "295e1983-9016-47dd-e8d2-93cc3d1e3901"
      },
      "source": [
        "#Indice de massa corporal (IMC)\n",
        "peso = float(input(\"Qual o seu peso? \"))\n",
        "altura = float(input(\"qual a sua altura? \"))\n",
        "indice = peso/altura**2\n",
        "if indice < 18:\n",
        "     print(f\"Seu IMC é {indice}\")\n",
        "     print(\"Voce está com Subpeso!\")\n",
        "elif indice >= 18 and indice < 25:\n",
        "     print(f\"Seu IMC é {indice}\")\n",
        "     print(\"Seu peso está normal!\")\n",
        "else:\n",
        "     print(f\"Seu IMC é {indice}\")\n",
        "     print(\"voce está com Sobrepeso!\")"
      ],
      "execution_count": 1,
      "outputs": [
        {
          "output_type": "stream",
          "text": [
            "Qual o seu peso? 70\n",
            "qual a sua altura? 1.80\n",
            "Seu IMC é 21.604938271604937\n",
            "Seu peso está normal!\n"
          ],
          "name": "stdout"
        }
      ]
    }
  ]
}