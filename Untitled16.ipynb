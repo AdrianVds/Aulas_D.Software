{
  "nbformat": 4,
  "nbformat_minor": 0,
  "metadata": {
    "colab": {
      "name": "Untitled16.ipynb",
      "provenance": [],
      "authorship_tag": "ABX9TyOpmT49+w9LQ00VEYOFHmsq",
      "include_colab_link": true
    },
    "kernelspec": {
      "name": "python3",
      "display_name": "Python 3"
    },
    "language_info": {
      "name": "python"
    }
  },
  "cells": [
    {
      "cell_type": "markdown",
      "metadata": {
        "id": "view-in-github",
        "colab_type": "text"
      },
      "source": [
        "<a href=\"https://colab.research.google.com/github/AdrianVds/Aulas_D.Software/blob/main/Untitled16.ipynb\" target=\"_parent\"><img src=\"https://colab.research.google.com/assets/colab-badge.svg\" alt=\"Open In Colab\"/></a>"
      ]
    },
    {
      "cell_type": "code",
      "metadata": {
        "colab": {
          "base_uri": "https://localhost:8080/"
        },
        "id": "8LSMFymQdzHM",
        "outputId": "7aee9cfb-52cd-4d5a-92e2-0ad7d26b7e66"
      },
      "source": [
        "#Supermercado /2 parcelas\n",
        "print(\"       Supermercado Bom Preço !!          \")\n",
        "print()\n",
        "print(\"Boa tarde sua divida é de 1000 reais ! \")\n",
        "print(\"-----------------------------------------\")\n",
        "print(\"1- promoção á vista com 25% de desconto\")\n",
        "print(\"2- Cartão com juros de ate 35%\")\n",
        "print(\"-----------------------------------------\")\n",
        "opçao = int(input(\"Como deseja pagar? 1 ou 2: \"))\n",
        "print(\"-----------------------------------------\")\n",
        "if opçao == 1:\n",
        "   print(\"Voce selecionou á Vistá\")\n",
        "   a = 1000*25\n",
        "   b = a/100\n",
        "   print(f\"obteve o desconto de {b} reais\")\n",
        "   total = 1000 - b\n",
        "   print(f\"Divida ficou em {total} reais\")\n",
        "   print(\"-----------------------------------------\")\n",
        "   print(\"Obrigado pela preferencia volte sempre\")\n",
        "if opçao == 2:\n",
        "   parcelas = int(input(\"quantas vezes deseja parcelar?  \"))\n",
        "   if parcelas <= 3 and parcelas >= 1:\n",
        "      print(\"parcelando em até 3 vezes\")\n",
        "      a = 1000*30\n",
        "      b = a/100\n",
        "      print(f\"Juros de {b} reais\")\n",
        "      total = 1000 + b\n",
        "      print(f\"Divida ficou em {total} reais\")\n",
        "      print(\"-----------------------------------------\")\n",
        "      print(\"Obrigado pela preferencia volte sempre\")\n",
        "   elif parcelas >= 4 and parcelas <= 6:\n",
        "      print(\"parcelando de 4 a 6 vezes\")\n",
        "      a = 1000*35\n",
        "      b = a/100\n",
        "      print(f\"Juros de {b} reais\")\n",
        "      total = 1000 + b\n",
        "      print(f\"Divida ficou em {total} reais\")\n",
        "      print(\"-----------------------------------------\")\n",
        "      print(\"Obrigado pela preferencia volte sempre\")\n",
        "   else:\n",
        "      print(\"Não parcelamos mais de 6 vezes\")\n",
        "else:\n",
        "    print(\"Não temos esta opção\")\n"
      ],
      "execution_count": 41,
      "outputs": [
        {
          "output_type": "stream",
          "text": [
            "       Supermercado Bom Preço !!          \n",
            "\n",
            "Boa tarde sua divida é de 1000 reais ! \n",
            "-----------------------------------------\n",
            "1- promoção á vista com 25% de desconto\n",
            "2- Cartão com juros de ate 35%\n",
            "-----------------------------------------\n",
            "Como deseja pagar? 1 ou 2: 2\n",
            "-----------------------------------------\n",
            "quantas vezes deseja parcelar?  5\n",
            "parcelando de 4 a 6 vezes\n",
            "Juros de 350.0 reais\n",
            "Divida ficou em 1350.0 reais\n",
            "-----------------------------------------\n",
            "Obrigado pela preferencia volte sempre\n"
          ],
          "name": "stdout"
        }
      ]
    }
  ]
}